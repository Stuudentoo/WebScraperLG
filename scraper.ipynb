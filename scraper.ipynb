{
 "cells": [
  {
   "attachments": {},
   "cell_type": "markdown",
   "metadata": {},
   "source": [
    "# Ceneo Scraper"
   ]
  },
  {
   "attachments": {},
   "cell_type": "markdown",
   "metadata": {},
   "source": [
    "# Załadowanie bibliotek"
   ]
  },
  {
   "cell_type": "code",
   "execution_count": 6,
   "metadata": {},
   "outputs": [],
   "source": [
    "import os\n",
    "import json\n",
    "import requests\n",
    "from bs4 import BeautifulSoup"
   ]
  },
  {
   "attachments": {},
   "cell_type": "markdown",
   "metadata": {},
   "source": [
    "# Wysłanie zapytania do serwera\n"
   ]
  },
  {
   "attachments": {},
   "cell_type": "markdown",
   "metadata": {},
   "source": [
    "## funkcja"
   ]
  },
  {
   "cell_type": "code",
   "execution_count": 7,
   "metadata": {},
   "outputs": [],
   "source": [
    "def extract(ancestor, selector = None, attribute = None, return_list = False):\n",
    "    if selector:\n",
    "        if return_list:\n",
    "            if attribute:\n",
    "                return [tag[attribute].strip() for tag in ancestor.select(selector)]\n",
    "            return [tag.text.strip() for tag in ancestor.select(selector)]\n",
    "        if attribute:\n",
    "            try:\n",
    "                return ancestor.select_one(selector)[attribute].strip()\n",
    "            except TypeError:\n",
    "                return None\n",
    "        try:\n",
    "            return ancestor.select_one(selector).text.strip()\n",
    "        except AttributeError:\n",
    "            return None\n",
    "    if attribute:\n",
    "        return ancestor[attribute]\n",
    "    return ancestor.text.strip()"
   ]
  },
  {
   "attachments": {},
   "cell_type": "markdown",
   "metadata": {},
   "source": [
    "\n"
   ]
  },
  {
   "attachments": {},
   "cell_type": "markdown",
   "metadata": {},
   "source": [
    "## Ekstrakcja składowej pojedynczych opinii\n",
    "| Składowa | Selektor | Zmienna |\n",
    "|----------|--------|---------|\n",
    "| id_opinii |div.js_product-review['data-entry-id']  | opinion_id | \n",
    "| autor |span.post_author-name | author | \n",
    "| rekomendacje |span.user-post_author-recomendation | recommendations | \n",
    "| gwiazdki |span.user-post_score-count |  stars | \n",
    "| treść |div.user-post_text | content | \n",
    "| lista zalet |div.review-feature_item-positives ~ div.review-feature_item | pros| \n",
    "| lista wad |div.review-feature_item-negatives ~ div.review-feature_item | cons |\n",
    "| dla ilu przydatna |button.vote-yes > span | helpful |\n",
    "| dla ilu nieprzydatna |button.vote-no > span | unhelpful |\n",
    "| data wystawienia | user-post_published > time:nth-child(1)[\"datatime\"] | publish_date |\n",
    "| data zakupu |time:nth-child(2)[\"datatime\"]| purchase_date |\n"
   ]
  },
  {
   "cell_type": "code",
   "execution_count": 8,
   "metadata": {},
   "outputs": [],
   "source": [
    "selectors = {\n",
    "    \"opinion_id\" : (None,\"data-entry-id\"),\n",
    "    \"author\" : (\"span.user-post__author-name\",),\n",
    "    \"recommendations\" : (\"span.user-post__author-recomendation\",),\n",
    "    \"stars\" : (\"span.user-post__score-count\",),\n",
    "    \"content\" : (\"div.user-post__text\",),\n",
    "    \"pros\" : (\"div.review-feature__title--positives ~ div.review-feature__item\", None, True),\n",
    "    \"cons\" : (\"div.review-feature__title--negatives ~ div.review-feature__item\", None, True),\n",
    "    \"helpful\" : (\"button.vote-yes > span\",),\n",
    "    \"unhelpful\" : (\"button.vote-no > span\",),\n",
    "    \"publish_date\" : ('span.user-post__published > time:nth-child(1)',\"datetime\"),\n",
    "    \"purchase_date\" : ('span.user-post__published > time:nth-child(2)',\"datetime\"),\n",
    "}"
   ]
  },
  {
   "cell_type": "code",
   "execution_count": 9,
   "metadata": {},
   "outputs": [],
   "source": [
    "# product_id = input(\"Podaj kod produktu: \")\n",
    "# product_id = \"138331381\"\n",
    "product_id = \"39562616\"\n",
    "url = f\"https://www.ceneo.pl/{product_id}#tab=reviews\""
   ]
  },
  {
   "attachments": {},
   "cell_type": "markdown",
   "metadata": {},
   "source": [
    "## Pobranie wszystkich opinii o produkcie "
   ]
  },
  {
   "cell_type": "code",
   "execution_count": 10,
   "metadata": {},
   "outputs": [
    {
     "name": "stdout",
     "output_type": "stream",
     "text": [
      "https://www.ceneo.pl/39562616/opinie-2\n",
      "https://www.ceneo.pl/39562616/opinie-3\n",
      "https://www.ceneo.pl/39562616/opinie-4\n",
      "https://www.ceneo.pl/39562616/opinie-5\n",
      "https://www.ceneo.pl/39562616/opinie-6\n",
      "https://www.ceneo.pl/39562616/opinie-7\n",
      "https://www.ceneo.pl/39562616/opinie-8\n",
      "https://www.ceneo.pl/39562616/opinie-9\n",
      "https://www.ceneo.pl/39562616/opinie-10\n",
      "https://www.ceneo.pl/39562616/opinie-11\n",
      "https://www.ceneo.pl/39562616/opinie-12\n",
      "https://www.ceneo.pl/39562616/opinie-13\n",
      "https://www.ceneo.pl/39562616/opinie-14\n",
      "None\n"
     ]
    }
   ],
   "source": [
    "all_opinions = []\n",
    "\n",
    "while(url):\n",
    "    response = requests.get(url)\n",
    "    page_dom = BeautifulSoup(response.text, \"html.parser\")\n",
    "    opinions = page_dom.select(\"div.js_product-review\")\n",
    "    for opinion in opinions:\n",
    "        single_opinion = {\n",
    "            key: extract(opinion, *value)\n",
    "                for key, value in selectors.items()\n",
    "        }\n",
    "        all_opinions.append(single_opinion)\n",
    "    try:\n",
    "        url = \"https://www.ceneo.pl\" + page_dom.select_one(\"a.pagination__next\")[\"href\"].strip()\n",
    "    except TypeError: \n",
    "        url = None\n",
    " \n",
    "    print(url)"
   ]
  },
  {
   "cell_type": "markdown",
   "metadata": {},
   "source": [
    "## Zapis do JSON"
   ]
  },
  {
   "cell_type": "code",
   "execution_count": 11,
   "metadata": {},
   "outputs": [],
   "source": [
    "if not os.path.exists(\"opinions\"):\n",
    "    os.makedirs(\"opinions\")\n",
    "with open(f\"opinions/{product_id}.json\",\"w\",encoding=\"UTF-8\") as jf:\n",
    "    json.dump(all_opinions, jf,indent=4, ensure_ascii=False)   \n"
   ]
  }
 ],
 "metadata": {
  "kernelspec": {
   "display_name": ".venv",
   "language": "python",
   "name": "python3"
  },
  "language_info": {
   "codemirror_mode": {
    "name": "ipython",
    "version": 3
   },
   "file_extension": ".py",
   "mimetype": "text/x-python",
   "name": "python",
   "nbconvert_exporter": "python",
   "pygments_lexer": "ipython3",
   "version": "3.11.6"
  },
  "orig_nbformat": 4
 },
 "nbformat": 4,
 "nbformat_minor": 2
}
