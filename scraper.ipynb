{
 "cells": [
  {
   "attachments": {},
   "cell_type": "markdown",
   "metadata": {},
   "source": [
    "# Ceneo Scraper"
   ]
  },
  {
   "attachments": {},
   "cell_type": "markdown",
   "metadata": {},
   "source": [
    "# Załadowanie bibliotek"
   ]
  },
  {
   "cell_type": "code",
   "execution_count": 8,
   "metadata": {},
   "outputs": [],
   "source": [
    "import requests\n",
    "from bs4 import BeautifulSoup\n",
    "import json\n",
    "import os"
   ]
  },
  {
   "attachments": {},
   "cell_type": "markdown",
   "metadata": {},
   "source": [
    "# Wysłanie zapytania do serwera\n"
   ]
  },
  {
   "cell_type": "code",
   "execution_count": 9,
   "metadata": {},
   "outputs": [
    {
     "data": {
      "text/plain": [
       "200"
      ]
     },
     "execution_count": 9,
     "metadata": {},
     "output_type": "execute_result"
    }
   ],
   "source": [
    "product_id= '138331381'\n",
    "url=f'https://www.ceneo.pl/{product_id}#tab=reviews_scroll'\n",
    "response = requests.get(url)\n",
    "response.status_code\n",
    "opinions= page_dom.select(\"div.js_product-review\")"
   ]
  },
  {
   "attachments": {},
   "cell_type": "markdown",
   "metadata": {},
   "source": [
    "## Pobranie opinii z kodu HTML strony"
   ]
  },
  {
   "cell_type": "code",
   "execution_count": 10,
   "metadata": {},
   "outputs": [
    {
     "name": "stdout",
     "output_type": "stream",
     "text": [
      "<class 'bs4.BeautifulSoup'>\n",
      "<class 'bs4.element.ResultSet'>\n"
     ]
    }
   ],
   "source": [
    "page_dom = BeautifulSoup(response.text, 'html.parser')\n",
    "print(type(page_dom))\n",
    "opinions= page_dom.select('div.js_product-review')\n",
    "print(type(opinions))"
   ]
  },
  {
   "attachments": {},
   "cell_type": "markdown",
   "metadata": {},
   "source": [
    "\n"
   ]
  },
  {
   "attachments": {},
   "cell_type": "markdown",
   "metadata": {},
   "source": [
    "## Ekstrakcja składowej pojedynczych opinii\n",
    "| Składowa | Selektor | Zmienna |\n",
    "|----------|--------|---------|\n",
    "| id_opinii |div.js_product-review['data-entry-id']  | opinion_id | \n",
    "| autor |span.post_author-name | author | \n",
    "| rekomendacje |span.user-post_author-recomendation | recommendations | \n",
    "| gwiazdki |span.user-post_score-count |  stars | \n",
    "| treść |div.user-post_text | content | \n",
    "| lista zalet |div.review-feature_item-positives ~ div.review-feature_item | pros| \n",
    "| lista wad |div.review-feature_item-negatives ~ div.review-feature_item | cons |\n",
    "| dla ilu przydatna |button.vote-yes > span | helpful |\n",
    "| dla ilu nieprzydatna |button.vote-no > span | unhelpful |\n",
    "| data wystawienia | user-post_published > time:nth-child(1)[\"datatime\"] | publish_date |\n",
    "| data zakupu |time:nth-child(2)[\"datatime\"]| purchase_date |\n"
   ]
  },
  {
   "cell_type": "code",
   "execution_count": 11,
   "metadata": {},
   "outputs": [],
   "source": [
    "all_opinions=[]\n",
    "for opinion in opinions:\n",
    "    single_opinion= {\n",
    "        \"opinion_id\" : opinion[\"data-entry-id\"],\n",
    "        \"author\" : opinion.select_one(\"span.user-post__author-name\").text.strip(),\n",
    "        \"recommendations\" : opinion.select_one(\"span.user-post__author-recomendation\").text.strip(),\n",
    "        \"stars\" : opinion.select_one(\"span.user-post__score-count\").text.strip(),\n",
    "        \"content\" : opinion.select_one(\"div.user-post__text\").text.strip(),\n",
    "        \"pros\" : [p.text.strip() for p in opinion.select(\"div.review-feature__title--positives ~ div.review-feature__item\")],\n",
    "        \"cons\" : [c.text.strip() for c in opinion.select(\"div.review-feature__title--negatives ~ div.review-feature__item\")],\n",
    "        \"helpful\" : opinion.select_one(\"button.vote-yes > span\").text.strip(),\n",
    "        \"unhelpful\" : opinion.select_one(\"button.vote-no > span\").text.strip(),\n",
    "        \"publish_date\" : opinion.select_one('span.user-post__published > time:nth-child(1)').text.strip(),\n",
    "        \"purchase_date\" : opinion.select_one('span.user-post__published > time:nth-child(2)').text.strip(),    \n",
    "    }\n",
    "    all_opinions.append(single_opinion)"
   ]
  },
  {
   "cell_type": "code",
   "execution_count": null,
   "metadata": {},
   "outputs": [],
   "source": [
    "all_opinions=[]\n",
    "while(url):\n",
    "    opinions=\n",
    "    response= requests.get(url)\n",
    "    page_dom- BeautifulSoup(response.text,\"html.parser\")\n",
    "    opinions= page_dom.select(\"div.js_product-review\")\n",
    "    \n",
    "    for opinion in opinions:\n",
    "        single_opinion= {\n",
    "            \"opinion_id\" : opinion[\"data-entry-id\"],\n",
    "            \"author\" : opinion.select_one(\"span.user-post__author-name\").text.strip(),\n",
    "            \"recommendations\" : opinion.select_one(\"span.user-post__author-recomendation\").text.strip(),\n",
    "            \"stars\" : opinion.select_one(\"span.user-post__score-count\").text.strip(),\n",
    "            \"content\" : opinion.select_one(\"div.user-post__text\").text.strip(),\n",
    "            \"pros\" : [p.text.strip() for p in opinion.select(\"div.review-feature__title--positives ~ div.review-feature__item\")],\n",
    "            \"cons\" : [c.text.strip() for c in opinion.select(\"div.review-feature__title--negatives ~ div.review-feature__item\")],\n",
    "            \"helpful\" : opinion.select_one(\"button.vote-yes > span\").text.strip(),\n",
    "            \"unhelpful\" : opinion.select_one(\"button.vote-no > span\").text.strip(),\n",
    "            \"publish_date\" : opinion.select_one('span.user-post__published > time:nth-child(1)').text.strip(),\n",
    "            \"purchase_date\" : opinion.select_one('span.user-post__published > time:nth-child(2)').text.strip(),    \n",
    "        }\n",
    "        all_opinions.append(single_opinion)\n",
    "try:\n",
    "    url=\"https://www.ceneo.pl\" + page_dom.select_one(\"a.pagination_next\")[\"href\"].strip()\n",
    "except TypeError: url= None\n",
    "print(url)        "
   ]
  },
  {
   "cell_type": "code",
   "execution_count": 12,
   "metadata": {},
   "outputs": [],
   "source": [
    "if not os.path.exists(\"opinions\"):\n",
    "    os.makedirs(\"opinions\")\n",
    "with open(f\"opinions/{product_id}.json\",\"w\",encoding=\"UTF-8\") as jf:\n",
    "    json.dump(all_opinions, jf,indent=4, ensure_ascii=False)   \n"
   ]
  },
  {
   "attachments": {},
   "cell_type": "markdown",
   "metadata": {},
   "source": [
    "## Pobranie wszystkich opinii o produkcie "
   ]
  },
  {
   "cell_type": "code",
   "execution_count": null,
   "metadata": {},
   "outputs": [],
   "source": []
  }
 ],
 "metadata": {
  "kernelspec": {
   "display_name": ".venv",
   "language": "python",
   "name": "python3"
  },
  "language_info": {
   "codemirror_mode": {
    "name": "ipython",
    "version": 3
   },
   "file_extension": ".py",
   "mimetype": "text/x-python",
   "name": "python",
   "nbconvert_exporter": "python",
   "pygments_lexer": "ipython3",
   "version": "3.11.4"
  },
  "orig_nbformat": 4
 },
 "nbformat": 4,
 "nbformat_minor": 2
}
